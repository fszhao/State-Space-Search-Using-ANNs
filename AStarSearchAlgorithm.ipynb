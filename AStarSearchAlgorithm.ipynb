{
 "cells": [
  {
   "attachments": {},
   "cell_type": "markdown",
   "metadata": {},
   "source": [
    "# State Space Search with A* Search Algorithm\n",
    "\n",
    "Search is often used for path-finding in video games. Although the characters in a video game often move in continuous spaces,\n",
    "it is trivial to layout a \"waypoint\" system as a kind of navigation grid over the continuous space. Then if the character needs\n",
    "to get from Point A to Point B, it does a line of sight (LOS) scan to find the nearest waypoint (let's call it Waypoint A) and\n",
    "finds the nearest, LOS waypoint to Point B (let's call it Waypoint B). The agent then does a A* search for Waypoint B from Waypoint A to find the shortest path. \n",
    "The entire path is thus Point A to Waypoint A to Waypoint B to Point B.\n",
    "\n",
    "For the purposes of this exercise, we're going to simplify the problem by working in a grid world. The symbols that form the grid have a special meaning as they\n",
    "specify the type of the terrain and the cost to enter a grid cell with that type of terrain:\n",
    "\n",
    "```\n",
    "token   terrain    cost \n",
    "🌾       plains     1\n",
    "🌲       forest     3\n",
    "🪨       hills      5\n",
    "🐊       swamp      7\n",
    "🗻       mountains  impassible\n",
    "```\n",
    "\n",
    "The raw format of the map will then look something like:\n",
    "\n",
    "```\n",
    "🌾🌾🌾🌾🌲🌾🌾\n",
    "🌾🌾🌾🌲🌲🌲🌾\n",
    "🌾🗻🗻🗻🌾🌾🌾\n",
    "🌾🌾🗻🗻🌾🌾🌾\n",
    "🌾🌾🗻🌾🌾🌲🌲\n",
    "🌾🌾🌾🌾🌲🌲🌲\n",
    "🌾🌾🌾🌾🌾🌾🌾\n",
    "```"
   ]
  },
  {
   "attachments": {},
   "cell_type": "markdown",
   "metadata": {},
   "source": [
    "## The Maps\n",
    "\n",
    "Given a map like the one above, we can easily represent each row as a `List` and the entire map as `List of Lists`:"
   ]
  },
  {
   "cell_type": "code",
   "execution_count": 61,
   "metadata": {},
   "outputs": [],
   "source": [
    "full_world = [\n",
    "['🌾', '🌾', '🌾', '🌾', '🌾', '🌲', '🌲', '🌲', '🌲', '🌲', '🌲', '🌲', '🌲', '🌲', '🌲', '🌾', '🌾', '🌾', '🌾', '🌾', '🌾', '🌾', '🌾', '🌾', '🌾', '🌾', '🌾'],\n",
    "['🌾', '🌾', '🌾', '🌾', '🌾', '🌾', '🌾', '🌲', '🌲', '🌲', '🌲', '🌲', '🌲', '🌲', '🌲', '🌲', '🌾', '🌾', '🗻', '🗻', '🗻', '🗻', '🗻', '🗻', '🗻', '🌾', '🌾'],\n",
    "['🌾', '🌾', '🌾', '🌾', '🗻', '🗻', '🌲', '🌲', '🌲', '🌲', '🌲', '🌲', '🌲', '🌲', '🌲', '🌲', '🌲', '🗻', '🗻', '🗻', '🪨', '🪨', '🪨', '🗻', '🗻', '🪨', '🪨'],\n",
    "['🌾', '🌾', '🌾', '🌾', '🪨', '🗻', '🗻', '🗻', '🌲', '🌲', '🌲', '🌲', '🐊', '🐊', '🌲', '🌲', '🌲', '🌲', '🌲', '🌾', '🌾', '🪨', '🪨', '🗻', '🗻', '🪨', '🌾'],\n",
    "['🌾', '🌾', '🌾', '🪨', '🪨', '🗻', '🗻', '🌲', '🌲', '🌾', '🌾', '🐊', '🐊', '🐊', '🐊', '🌲', '🌲', '🌲', '🌾', '🌾', '🌾', '🪨', '🗻', '🗻', '🗻', '🪨', '🌾'],\n",
    "['🌾', '🪨', '🪨', '🪨', '🗻', '🗻', '🪨', '🪨', '🌾', '🌾', '🌾', '🌾', '🐊', '🐊', '🐊', '🐊', '🐊', '🌾', '🌾', '🌾', '🌾', '🌾', '🪨', '🗻', '🪨', '🌾', '🌾'],\n",
    "['🌾', '🪨', '🪨', '🗻', '🗻', '🪨', '🪨', '🌾', '🌾', '🌾', '🌾', '🪨', '🗻', '🗻', '🗻', '🐊', '🐊', '🐊', '🌾', '🌾', '🌾', '🌾', '🌾', '🪨', '🌾', '🌾', '🌾'],\n",
    "['🌾', '🌾', '🪨', '🪨', '🪨', '🪨', '🪨', '🌾', '🌾', '🌾', '🌾', '🌾', '🌾', '🪨', '🗻', '🗻', '🗻', '🐊', '🐊', '🐊', '🌾', '🌾', '🪨', '🪨', '🪨', '🌾', '🌾'],\n",
    "['🌾', '🌾', '🌾', '🪨', '🪨', '🪨', '🌾', '🌾', '🌾', '🌾', '🌾', '🌾', '🪨', '🪨', '🗻', '🗻', '🌾', '🐊', '🐊', '🌾', '🌾', '🪨', '🪨', '🪨', '🌾', '🌾', '🌾'],\n",
    "['🌾', '🌾', '🌾', '🐊', '🐊', '🐊', '🌾', '🌾', '🪨', '🪨', '🪨', '🗻', '🗻', '🗻', '🗻', '🌾', '🌾', '🌾', '🐊', '🌾', '🪨', '🪨', '🪨', '🌾', '🌾', '🌾', '🌾'],\n",
    "['🌾', '🌾', '🐊', '🐊', '🐊', '🐊', '🐊', '🌾', '🪨', '🪨', '🗻', '🗻', '🗻', '🪨', '🌾', '🌾', '🌾', '🌾', '🌾', '🪨', '🗻', '🗻', '🗻', '🪨', '🌾', '🌾', '🌾'],\n",
    "['🌾', '🐊', '🐊', '🐊', '🐊', '🐊', '🌾', '🌾', '🪨', '🗻', '🗻', '🪨', '🌾', '🌾', '🌾', '🌾', '🐊', '🐊', '🌾', '🌾', '🪨', '🗻', '🗻', '🪨', '🌾', '🌾', '🌾'],\n",
    "['🐊', '🐊', '🐊', '🐊', '🐊', '🌾', '🌾', '🪨', '🪨', '🗻', '🗻', '🪨', '🌾', '🐊', '🐊', '🐊', '🐊', '🌾', '🌾', '🌾', '🪨', '🗻', '🪨', '🌾', '🌾', '🌾', '🌾'],\n",
    "['🌾', '🐊', '🐊', '🐊', '🐊', '🌾', '🌾', '🪨', '🌲', '🌲', '🪨', '🌾', '🌾', '🌾', '🌾', '🐊', '🐊', '🐊', '🐊', '🌾', '🌾', '🪨', '🌾', '🌾', '🌾', '🌾', '🌾'],\n",
    "['🌾', '🌾', '🌾', '🌾', '🗻', '🌾', '🌾', '🌲', '🌲', '🌲', '🌲', '🪨', '🪨', '🪨', '🪨', '🌾', '🐊', '🐊', '🐊', '🌾', '🌾', '🪨', '🗻', '🪨', '🌾', '🌾', '🌾'],\n",
    "['🌾', '🌾', '🌾', '🗻', '🗻', '🗻', '🌲', '🌲', '🌲', '🌲', '🌲', '🌲', '🗻', '🗻', '🗻', '🪨', '🪨', '🌾', '🐊', '🌾', '🪨', '🗻', '🗻', '🪨', '🌾', '🌾', '🌾'],\n",
    "['🌾', '🌾', '🗻', '🗻', '🌲', '🌲', '🌲', '🌲', '🌲', '🌲', '🌲', '🌲', '🌲', '🌲', '🗻', '🗻', '🗻', '🌾', '🌾', '🗻', '🗻', '🗻', '🌾', '🌾', '🌾', '🌾', '🌾'],\n",
    "['🌾', '🌾', '🌾', '🗻', '🗻', '🌲', '🌲', '🌲', '🌲', '🌲', '🌲', '🌲', '🌲', '🌲', '🌲', '🌲', '🗻', '🗻', '🗻', '🗻', '🌾', '🌾', '🌾', '🌾', '🌾', '🌾', '🌾'],\n",
    "['🌾', '🌾', '🌾', '🗻', '🗻', '🗻', '🌲', '🌲', '🌲', '🌲', '🌲', '🌲', '🌲', '🌲', '🌾', '🌾', '🌾', '🪨', '🪨', '🌾', '🌾', '🌾', '🌾', '🌾', '🌾', '🌾', '🌾'],\n",
    "['🌾', '🌾', '🌾', '🌾', '🗻', '🗻', '🗻', '🌲', '🌲', '🌲', '🌲', '🌲', '🌲', '🌾', '🌾', '🌾', '🌾', '🌾', '🌾', '🌾', '🌾', '🌾', '🌾', '🐊', '🐊', '🐊', '🐊'],\n",
    "['🌾', '🌾', '🪨', '🪨', '🪨', '🪨', '🗻', '🗻', '🌲', '🌲', '🌲', '🌲', '🌲', '🌾', '🗻', '🌾', '🌾', '🌾', '🌾', '🌾', '🐊', '🐊', '🐊', '🐊', '🐊', '🐊', '🐊'],\n",
    "['🌾', '🌾', '🌾', '🌾', '🪨', '🪨', '🪨', '🗻', '🗻', '🗻', '🌲', '🌲', '🗻', '🗻', '🌾', '🌾', '🌾', '🌾', '🌾', '🌾', '🐊', '🐊', '🐊', '🐊', '🐊', '🐊', '🐊'],\n",
    "['🌾', '🌾', '🌾', '🌾', '🌾', '🌾', '🪨', '🪨', '🪨', '🗻', '🗻', '🗻', '🗻', '🌾', '🌾', '🌾', '🌾', '🪨', '🪨', '🌾', '🌾', '🐊', '🐊', '🐊', '🐊', '🐊', '🐊'],\n",
    "['🌾', '🪨', '🪨', '🌾', '🌾', '🪨', '🪨', '🪨', '🪨', '🪨', '🌾', '🌾', '🌾', '🌾', '🌾', '🪨', '🪨', '🗻', '🗻', '🪨', '🪨', '🌾', '🐊', '🐊', '🐊', '🐊', '🐊'],\n",
    "['🪨', '🗻', '🪨', '🪨', '🪨', '🪨', '🌾', '🌾', '🌾', '🌾', '🌾', '🗻', '🗻', '🗻', '🪨', '🪨', '🗻', '🗻', '🌾', '🗻', '🗻', '🪨', '🪨', '🐊', '🐊', '🐊', '🐊'],\n",
    "['🪨', '🗻', '🗻', '🗻', '🪨', '🌾', '🌾', '🌾', '🌾', '🌾', '🪨', '🪨', '🗻', '🗻', '🗻', '🗻', '🪨', '🪨', '🪨', '🪨', '🗻', '🗻', '🗻', '🐊', '🐊', '🐊', '🐊'],\n",
    "['🪨', '🪨', '🌾', '🌾', '🌾', '🌾', '🌾', '🌾', '🌾', '🌾', '🌾', '🌾', '🪨', '🪨', '🪨', '🪨', '🪨', '🌾', '🌾', '🌾', '🌾', '🪨', '🪨', '🪨', '🌾', '🌾', '🌾']\n",
    "]"
   ]
  },
  {
   "cell_type": "code",
   "execution_count": 62,
   "metadata": {},
   "outputs": [],
   "source": [
    "small_world = [\n",
    "    ['🌾', '🌲', '🌲', '🌲', '🌲', '🌲', '🌲'],\n",
    "    ['🌾', '🌲', '🌲', '🌲', '🌲', '🌲', '🌲'],\n",
    "    ['🌾', '🌲', '🌲', '🌲', '🌲', '🌲', '🌲'],\n",
    "    ['🌾', '🌾', '🌾', '🌾', '🌾', '🌾', '🌾'],\n",
    "    ['🌲', '🌲', '🌲', '🌲', '🌲', '🌲', '🌾'],\n",
    "    ['🌲', '🌲', '🌲', '🌲', '🌲', '🌲', '🌾'],\n",
    "    ['🌲', '🌲', '🌲', '🌲', '🌲', '🌲', '🌾']\n",
    "]"
   ]
  },
  {
   "attachments": {},
   "cell_type": "markdown",
   "metadata": {},
   "source": [
    "## States and State Representation\n",
    "\n",
    "The canonical pieces of a State Space Search problem are the States, Actions, Transitions and Costs. \n",
    "\n",
    "We'll start with the state representation. For the navigation problem, a state is the current position of the agent, `(x,y)`. The entire set of possible states is implicitly represented by the world map."
   ]
  },
  {
   "attachments": {},
   "cell_type": "markdown",
   "metadata": {},
   "source": [
    "## Actions and Transitions\n",
    "\n",
    "Next we need to specify the actions. There are a number of different possible action sets in such a world. The agent might be constrained to move north/south/east/west or diagonal moves might be permitted as well. \n",
    "\n",
    "When combined with the set of States, the *permissible* actions forms the Transition set.\n",
    "\n",
    "Rather than enumerate the Transition set directly, it's easier to calculate the available actions and transitions on the fly. This can be done by specifying a *movement model* as offsets to the current state and then checking to see which of the potential successor states are actually permitted. This can be done in a *successor* function."
   ]
  },
  {
   "cell_type": "code",
   "execution_count": 63,
   "metadata": {},
   "outputs": [],
   "source": [
    "MOVES = [(0,-1), (1,0), (0,1), (-1,0)]"
   ]
  },
  {
   "attachments": {},
   "cell_type": "markdown",
   "metadata": {},
   "source": [
    "## Costs\n",
    "\n",
    "We can encode the costs described above in a `Dict`:"
   ]
  },
  {
   "cell_type": "code",
   "execution_count": 64,
   "metadata": {},
   "outputs": [],
   "source": [
    "COSTS = { '🌾': 1, '🌲': 3, '🪨': 5, '🐊': 7}"
   ]
  },
  {
   "cell_type": "code",
   "execution_count": 65,
   "metadata": {},
   "outputs": [],
   "source": [
    "from typing import List, Tuple, Dict, Callable\n",
    "from copy import deepcopy"
   ]
  },
  {
   "attachments": {},
   "cell_type": "markdown",
   "metadata": {},
   "source": [
    "<a id=\"heuristic\"></a>\n",
    "## heuristic\n",
    "\n",
    "`heuristic` is a helper function that calculates h(n) in the A* search algorithm. The heuristic function estimates the remaining cost to get to the goal position. The heuristic function is necessary in A* search to guide the search algorithm towards the goal efficiently. A* search combines both the cost to reach a node from the start node (g(n)) and an estimate of the cost from the current node to the goal node (h(n)). The heuristic function provides this estimate. The key idea behind A* search is to prioritize exploring nodes that are likely to lead to the goal. The heuristic function helps in estimating the potential cost from a node to the goal, allowing the algorithm to make informed decisions about which nodes to explore next.\n",
    "\n",
    "\n",
    "**Used by**: [a_star_search](#a_star_search)\n",
    "\n",
    "* **position** tuple: the current position.\n",
    "* **goal** tuple: the goal position.\n",
    "\n",
    "**returns** int: the distance between the current position and the goal position."
   ]
  },
  {
   "cell_type": "code",
   "execution_count": 2,
   "metadata": {},
   "outputs": [],
   "source": [
    "def heuristic(position, goal): \n",
    "    x1, y1 = position\n",
    "    x2, y2 = goal\n",
    "    return abs(x2 - x1) + abs(y2 - y1)"
   ]
  },
  {
   "cell_type": "code",
   "execution_count": 3,
   "metadata": {},
   "outputs": [],
   "source": [
    "# assertions/unit tests\n",
    "\n",
    "# Test case 1: Positions at (0, 0) and (3, 4)\n",
    "position = (0, 0)\n",
    "goal = (3, 4)\n",
    "expected_cost = 7  # Manhattan distance: |3 - 0| + |4 - 0|\n",
    "assert heuristic(position, goal) == expected_cost\n",
    "\n",
    "# Test case 2: Positions at (2, 2) and (2, 2)\n",
    "position = (2, 2)\n",
    "goal = (2, 2)\n",
    "expected_cost = 0  # Manhattan distance: |2 - 2| + |2 - 2|\n",
    "assert heuristic(position, goal) == expected_cost\n",
    "\n",
    "# Test case 3: Positions at (5, 5) and (1, 1)\n",
    "position = (5, 5)\n",
    "goal = (1, 1)\n",
    "expected_cost = 8  # Manhattan distance: |1 - 5| + |1 - 5|\n",
    "assert heuristic(position, goal) == expected_cost"
   ]
  },
  {
   "attachments": {},
   "cell_type": "markdown",
   "metadata": {},
   "source": [
    "<a id=\"get_neighbors\"></a>\n",
    "## get_neighbors\n",
    "\n",
    "`get_neighbors` takes a position and returns a list of valid neighboring positions. It uses the moves list to generate the neighbor positions by adding the offsets to the current position. The resulting neighbors are filtered to ensure they are within the bounds of the world grid. The function also specifies mountain spaces as impassible. These neighboring positions are important for expanding the search space and exploring possible paths towards the goal.\n",
    "\n",
    "\n",
    "**Used by**: [a_star_search](#a_star_search)\n",
    "\n",
    "* **position** tuple: a tuple of the agent's current position.\n",
    "* **world** list: the list of strings representing the world to be explored.\n",
    "* **moves** list: the list of allowable moves(up/down/left/right).\n",
    "\n",
    "\n",
    "**returns** list: a list of neighboring positions"
   ]
  },
  {
   "cell_type": "code",
   "execution_count": 4,
   "metadata": {},
   "outputs": [],
   "source": [
    "def get_neighbors(position, world, moves):\n",
    "    x, y = position\n",
    "    neighbors = [(x + dx, y + dy) for dx, dy in moves]\n",
    "    neighbors = [(nx, ny) for nx, ny in neighbors if 0 <= nx < len(world) and 0 <= ny < len(world[0]) and world[nx][ny] != '🗻']\n",
    "    return neighbors"
   ]
  },
  {
   "cell_type": "code",
   "execution_count": 10,
   "metadata": {},
   "outputs": [],
   "source": [
    "# assertions/unit tests\n",
    "\n",
    "# Test case 1: Positions at (1, 1) with no obstacles\n",
    "position = (1, 1)\n",
    "world = [['', '', ''],\n",
    "            ['', '', ''],\n",
    "            ['', '', '']]\n",
    "moves = [(0, 1), (0, -1), (1, 0), (-1, 0)]\n",
    "expected_neighbors = [(1, 2), (1, 0), (2, 1), (0, 1)]\n",
    "assert get_neighbors(position, world, moves) == expected_neighbors\n",
    "\n",
    "# Test case 2: Positions at (0, 0) with obstacles and boundary checks\n",
    "position = (0, 0)\n",
    "world = [['🗻', '', ''],\n",
    "            ['', '', ''],\n",
    "            ['', '', '']]\n",
    "moves = [(0, 1), (0, -1), (1, 0), (-1, 0)]\n",
    "expected_neighbors = [(0, 1), (1, 0)]\n",
    "assert get_neighbors(position, world, moves) == expected_neighbors"
   ]
  },
  {
   "attachments": {},
   "cell_type": "markdown",
   "metadata": {},
   "source": [
    "<a id=\"calculate_costs\"></a>\n",
    "## calculate_costs\n",
    "\n",
    "`calculate_costs` calculates the cost of moving from position to neighbor. This function is necessary in A* search to determine the cost of reaching a neighbor position from a given position. It combines the costs incurred from the parent position, the terrain type of the neighbor position, and the movement cost.\n",
    "\n",
    "\n",
    "**Used by**: [a_star_search](#a_star_search)\n",
    "\n",
    "* **parent_cost** int: the value of the parent cost.\n",
    "* **position** tuple: a tuple of the agent's current position.\n",
    "* **neighbor** tuple: a tuple of the neighboring position.\n",
    "* **world** list: the list of strings representing the world to be explored.\n",
    "* **costs** dict: a dictionary that maps cost values to terrain values.\n",
    "\n",
    "**returns** int: the total cost value."
   ]
  },
  {
   "cell_type": "code",
   "execution_count": 11,
   "metadata": {},
   "outputs": [],
   "source": [
    "def calculate_cost(parent_cost, position, neighbor, world, costs):\n",
    "    x1, y1 = position\n",
    "    x2, y2 = neighbor\n",
    "    terrain_cost = costs[world[x2][y2]]\n",
    "    move_cost = abs(x2 - x1) + abs(y2 - y1)\n",
    "    return parent_cost + terrain_cost + move_cost"
   ]
  },
  {
   "cell_type": "code",
   "execution_count": 16,
   "metadata": {},
   "outputs": [],
   "source": [
    "# assertions/unit tests\n",
    "\n",
    "# Test case 1: Parent cost is 0, no terrain cost, and Manhattan distance of 1\n",
    "parent_cost = 0\n",
    "position = (1, 1)\n",
    "neighbor = (2, 1)\n",
    "world = [['', '', ''],\n",
    "            ['', '', ''],\n",
    "            ['', '', '']]\n",
    "costs = {'': 0}\n",
    "expected_cost = 1\n",
    "assert calculate_cost(parent_cost, position, neighbor, world, costs) == expected_cost\n",
    "\n",
    "# Test case 2: Parent cost is 5, terrain cost of 3, and Manhattan distance of 2\n",
    "parent_cost = 5\n",
    "position = (0, 0)\n",
    "neighbor = (1, 2)\n",
    "world = [['', '', '🌲'],\n",
    "            ['', '', ''],\n",
    "            ['', '', '']]\n",
    "costs = {'': 0, '🌲': 3}\n",
    "expected_cost = 8\n",
    "assert calculate_cost(parent_cost, position, neighbor, world, costs) == expected_cost\n",
    "\n",
    "# Test case 3: Parent cost is 2, no terrain cost, and Manhattan distance of 0\n",
    "parent_cost = 2\n",
    "position = (3, 4)\n",
    "neighbor = (3, 4)\n",
    "world = [['', '', '', '', '', ''],\n",
    "            ['', '', '', '', '', ''],\n",
    "            ['', '', '', '', '', ''],\n",
    "            ['', '', '', '', '', ''],\n",
    "            ['', '', '', '', '', '']]\n",
    "costs = {'': 0}\n",
    "expected_cost = 2\n",
    "assert calculate_cost(parent_cost, position, neighbor, world, costs) == expected_cost\n"
   ]
  },
  {
   "attachments": {},
   "cell_type": "markdown",
   "metadata": {},
   "source": [
    "<a id=\"a_star_search\"></a>\n",
    "## a_star_search\n",
    "\n",
    "`a_start_search` is a function for the A* search algorithm \n",
    "\n",
    "This implementation uses a priority queue (frontier) to store the open nodes and is sorted based on the sum of the cost to reach the node and the estimated cost to the goal (f). A* search iteratively selects the node with the minimum f value from the open list and expands its neighbors. The costs are calculated based on the terrain type and the movement model, and the heuristic function is used to estimate the remaining cost to the goal.\n",
    "\n",
    "\n",
    "**Uses**: [heuristic](#heuristic), [get_neighbors](#get_neighbors), [calculate_costs](#calculate_costs)\n",
    "\n",
    "* **world** List[List[str]]: the actual context for the navigation problem.\n",
    "* **start** Tuple[int, int]: the starting location of the bot, `(x, y)`.\n",
    "* **goal** Tuple[int, int]: the desired goal position for the bot, `(x, y)`.\n",
    "* **costs** Dict[str, int]: is a `Dict` of costs for each type of terrain in **world**.\n",
    "* **moves** List[Tuple[int, int]]: the legal movement model expressed in offsets in **world**.\n",
    "* **heuristic** Callable: is a heuristic function, $h(n)$.\n",
    "\n",
    "\n",
    "**returns** List[Tuple[int, int]]: the offsets needed to get from start state to the goal as a `List`.\n"
   ]
  },
  {
   "cell_type": "code",
   "execution_count": 72,
   "metadata": {},
   "outputs": [],
   "source": [
    "def a_star_search( world: List[List[str]], start: Tuple[int, int], goal: Tuple[int, int], costs: Dict[str, int], moves: List[Tuple[int, int]], heuristic: Callable) -> List[Tuple[int, int]]:\n",
    "    \n",
    "    #initilize data structures\n",
    "    frontier = [(start, 0)]  \n",
    "    explored = set()\n",
    "    g = {start: 0}\n",
    "    f = {start: heuristic(start, goal)}\n",
    "    parents = {}\n",
    "    \n",
    "    while frontier:\n",
    "        current, current_cost = min(frontier, key=lambda x: x[1] + f[x[0]])\n",
    "        \n",
    "        if current == goal:\n",
    "            path = []\n",
    "            while current in parents:\n",
    "                path.insert(0, current)\n",
    "                current = parents[current]\n",
    "            path.insert(0, start)\n",
    "            return path\n",
    "        \n",
    "        frontier.remove((current, current_cost))\n",
    "        explored.add(current)\n",
    "        \n",
    "        for neighbor in get_neighbors(current, world, moves):\n",
    "            if neighbor in explored:\n",
    "                continue\n",
    "            \n",
    "            cost = calculate_cost(current_cost, current, neighbor, world, costs)\n",
    "            \n",
    "            if neighbor not in frontier or cost < g[neighbor]:\n",
    "                g[neighbor] = cost\n",
    "                f[neighbor] = cost + heuristic(neighbor, goal)\n",
    "                parents[neighbor] = current\n",
    "                \n",
    "                if neighbor not in frontier:\n",
    "                    frontier.append((neighbor, cost))\n",
    "    return [] "
   ]
  },
  {
   "attachments": {},
   "cell_type": "markdown",
   "metadata": {},
   "source": [
    "## pretty_print_path\n",
    "\n",
    "`pretty_print_path` is a function for the A* search algorithm \n",
    "What is it?\n",
    "What does it do?\n",
    "\n",
    "* **world** List[List[str]]: the world (terrain map) for the path to be printed upon.\n",
    "* **path** List[Tuple[int, int]]: the path from start to goal, in offsets.\n",
    "* **start** Tuple[int, int]: the starting location for the path.\n",
    "* **goal** Tuple[int, int]: the goal location for the path.\n",
    "* **costs** Dict[str, int]: the costs for each action.\n",
    "\n",
    "**returns** int - the path cost."
   ]
  },
  {
   "cell_type": "code",
   "execution_count": 73,
   "metadata": {},
   "outputs": [],
   "source": [
    "def pretty_print_path( world: List[List[str]], path: List[Tuple[int, int]], start: Tuple[int, int], goal: Tuple[int, int], costs: Dict[str, int]) -> int:\n",
    "    \n",
    "    path_cost = 0\n",
    "    \n",
    "    for i in range(len(world)):\n",
    "        for j in range(len(world[0])):\n",
    "            position = (i, j)\n",
    "            \n",
    "            if position == goal:\n",
    "                print(\"🎁\", end=\" \")\n",
    "            elif position in path:\n",
    "                if position[0] < path[path.index(position) + 1][0]:\n",
    "                    print(\"⏬\", end=\" \")  # Move down\n",
    "                elif position[0] > path[path.index(position) + 1][0]:\n",
    "                    print(\"⏪\", end=\" \")  # Move left\n",
    "                elif position[1] < path[path.index(position) + 1][1]:\n",
    "                    print(\"⏩\", end=\" \")  # Move right\n",
    "                elif position[1] > path[path.index(position) + 1][1]:\n",
    "                    print(\"⏫\", end=\" \")  # Move up\n",
    "                path_cost += costs[world[i][j]]\n",
    "            else:\n",
    "                print(world[i][j], end=\" \")\n",
    "        \n",
    "        print()  # Move to the next row\n",
    "    \n",
    "    return path_cost"
   ]
  },
  {
   "attachments": {},
   "cell_type": "markdown",
   "metadata": {},
   "source": [
    "## Navigating Small World"
   ]
  },
  {
   "cell_type": "code",
   "execution_count": 74,
   "metadata": {},
   "outputs": [
    {
     "name": "stdout",
     "output_type": "stream",
     "text": [
      "⏬ 🌲 🌲 🌲 🌲 🌲 🌲 \n",
      "⏬ 🌲 🌲 🌲 🌲 🌲 🌲 \n",
      "⏬ 🌲 🌲 🌲 🌲 🌲 🌲 \n",
      "⏩ ⏩ ⏩ ⏩ ⏩ ⏩ ⏬ \n",
      "🌲 🌲 🌲 🌲 🌲 🌲 ⏬ \n",
      "🌲 🌲 🌲 🌲 🌲 🌲 ⏬ \n",
      "🌲 🌲 🌲 🌲 🌲 🌲 🎁 \n",
      "total path cost: 12\n",
      "[(0, 0), (1, 0), (2, 0), (3, 0), (3, 1), (3, 2), (3, 3), (3, 4), (3, 5), (3, 6), (4, 6), (5, 6), (6, 6)]\n"
     ]
    }
   ],
   "source": [
    "small_start = (0, 0)\n",
    "small_goal = (len(small_world[0]) - 1, len(small_world) - 1)\n",
    "small_path = a_star_search(small_world, small_start, small_goal, COSTS, MOVES, heuristic)\n",
    "small_path_cost = pretty_print_path(small_world, small_path, small_start, small_goal, COSTS)\n",
    "print(f\"total path cost: {small_path_cost}\")\n",
    "print(small_path)"
   ]
  },
  {
   "attachments": {},
   "cell_type": "markdown",
   "metadata": {},
   "source": [
    "## Navigating Big World"
   ]
  },
  {
   "cell_type": "code",
   "execution_count": 75,
   "metadata": {},
   "outputs": [
    {
     "name": "stdout",
     "output_type": "stream",
     "text": [
      "⏬ 🌾 🌾 🌾 🌾 🌲 🌲 🌲 🌲 🌲 🌲 🌲 🌲 🌲 🌲 🌾 🌾 🌾 🌾 🌾 🌾 🌾 🌾 🌾 🌾 🌾 🌾 \n",
      "⏬ 🌾 🌾 🌾 🌾 🌾 🌾 🌲 🌲 🌲 🌲 🌲 🌲 🌲 🌲 🌲 🌾 🌾 🗻 🗻 🗻 🗻 🗻 🗻 🗻 🌾 🌾 \n",
      "⏬ 🌾 🌾 🌾 🗻 🗻 🌲 🌲 🌲 🌲 🌲 🌲 🌲 🌲 🌲 🌲 🌲 🗻 🗻 🗻 🪨 🪨 🪨 🗻 🗻 🪨 🪨 \n",
      "⏬ 🌾 🌾 🌾 🪨 🗻 🗻 🗻 🌲 🌲 🌲 🌲 🐊 🐊 🌲 🌲 🌲 🌲 🌲 🌾 🌾 🪨 🪨 🗻 🗻 🪨 🌾 \n",
      "⏬ 🌾 🌾 🪨 🪨 🗻 🗻 🌲 🌲 🌾 🌾 🐊 🐊 🐊 🐊 🌲 🌲 🌲 🌾 🌾 🌾 🪨 🗻 🗻 🗻 🪨 🌾 \n",
      "⏬ 🪨 🪨 🪨 🗻 🗻 🪨 🪨 🌾 🌾 🌾 🌾 🐊 🐊 🐊 🐊 🐊 🌾 🌾 🌾 🌾 🌾 🪨 🗻 🪨 🌾 🌾 \n",
      "⏬ 🪨 🪨 🗻 🗻 🪨 🪨 🌾 🌾 🌾 🌾 🪨 🗻 🗻 🗻 🐊 🐊 🐊 🌾 🌾 🌾 🌾 🌾 🪨 🌾 🌾 🌾 \n",
      "⏬ 🌾 🪨 🪨 🪨 🪨 🪨 🌾 🌾 🌾 🌾 🌾 🌾 🪨 🗻 🗻 🗻 🐊 🐊 🐊 🌾 🌾 🪨 🪨 🪨 🌾 🌾 \n",
      "⏬ 🌾 🌾 🪨 🪨 🪨 🌾 🌾 🌾 🌾 🌾 🌾 🪨 🪨 🗻 🗻 🌾 🐊 🐊 🌾 🌾 🪨 🪨 🪨 🌾 🌾 🌾 \n",
      "⏬ 🌾 🌾 🐊 🐊 🐊 🌾 🌾 🪨 🪨 🪨 🗻 🗻 🗻 🗻 🌾 🌾 🌾 🐊 🌾 🪨 🪨 🪨 🌾 🌾 🌾 🌾 \n",
      "⏬ 🌾 🐊 🐊 🐊 🐊 🐊 🌾 🪨 🪨 🗻 🗻 🗻 🪨 🌾 🌾 🌾 🌾 🌾 🪨 🗻 🗻 🗻 🪨 🌾 🌾 🌾 \n",
      "⏬ 🐊 🐊 🐊 🐊 🐊 🌾 🌾 🪨 🗻 🗻 🪨 🌾 🌾 🌾 🌾 🐊 🐊 🌾 🌾 🪨 🗻 🗻 🪨 🌾 🌾 🌾 \n",
      "⏬ 🐊 🐊 🐊 🐊 🌾 🌾 🪨 🪨 🗻 🗻 🪨 🌾 🐊 🐊 🐊 🐊 🌾 🌾 🌾 🪨 🗻 🪨 🌾 🌾 🌾 🌾 \n",
      "⏬ 🐊 🐊 🐊 🐊 🌾 🌾 🪨 🌲 🌲 🪨 🌾 🌾 🌾 🌾 🐊 🐊 🐊 🐊 🌾 🌾 🪨 🌾 🌾 🌾 🌾 🌾 \n",
      "⏩ ⏬ 🌾 🌾 🗻 🌾 🌾 🌲 🌲 🌲 🌲 🪨 🪨 🪨 🪨 🌾 🐊 🐊 🐊 🌾 🌾 🪨 🗻 🪨 🌾 🌾 🌾 \n",
      "🌾 ⏬ 🌾 🗻 🗻 🗻 🌲 🌲 🌲 🌲 🌲 🌲 🗻 🗻 🗻 🪨 🪨 🌾 🐊 🌾 🪨 🗻 🗻 🪨 🌾 🌾 🌾 \n",
      "🌾 ⏬ 🗻 🗻 🌲 🌲 🌲 🌲 🌲 🌲 🌲 🌲 🌲 🌲 🗻 🗻 🗻 🌾 🌾 🗻 🗻 🗻 🌾 🌾 🌾 🌾 🌾 \n",
      "🌾 ⏬ 🌾 🗻 🗻 🌲 🌲 🌲 🌲 🌲 🌲 🌲 🌲 🌲 🌲 🌲 🗻 🗻 🗻 🗻 🌾 🌾 🌾 🌾 🌾 🌾 🌾 \n",
      "🌾 ⏬ 🌾 🗻 🗻 🗻 🌲 🌲 🌲 🌲 🌲 🌲 🌲 🌲 🌾 🌾 🌾 🪨 🪨 🌾 🌾 🌾 🌾 🌾 🌾 🌾 🌾 \n",
      "🌾 ⏬ 🌾 🌾 🗻 🗻 🗻 🌲 🌲 🌲 🌲 🌲 🌲 🌾 🌾 🌾 🌾 🌾 🌾 🌾 🌾 🌾 🌾 🐊 🐊 🐊 🐊 \n",
      "🌾 ⏬ 🪨 🪨 🪨 🪨 🗻 🗻 🌲 🌲 🌲 🌲 🌲 🌾 🗻 🌾 🌾 🌾 🌾 🌾 🐊 🐊 🐊 🐊 🐊 🐊 🐊 \n",
      "🌾 ⏩ ⏩ ⏬ 🪨 🪨 🪨 🗻 🗻 🗻 🌲 🌲 🗻 🗻 🌾 🌾 🌾 🌾 🌾 🌾 🐊 🐊 🐊 🐊 🐊 🐊 🐊 \n",
      "🌾 🌾 🌾 ⏬ 🌾 🌾 🪨 🪨 🪨 🗻 🗻 🗻 🗻 🌾 🌾 🌾 🌾 🪨 🪨 🌾 🌾 🐊 🐊 🐊 🐊 🐊 🐊 \n",
      "🌾 🪨 🪨 ⏬ 🌾 🪨 🪨 🪨 🪨 🪨 🌾 🌾 🌾 🌾 🌾 🪨 🪨 🗻 🗻 🪨 🪨 🌾 🐊 🐊 🐊 🐊 🐊 \n",
      "🪨 🗻 🪨 ⏩ ⏬ 🪨 🌾 🌾 🌾 🌾 🌾 🗻 🗻 🗻 🪨 🪨 🗻 🗻 🌾 🗻 🗻 🪨 🪨 🐊 🐊 🐊 🐊 \n",
      "🪨 🗻 🗻 🗻 ⏩ ⏩ ⏩ ⏩ ⏩ ⏬ 🪨 🪨 🗻 🗻 🗻 🗻 🪨 🪨 🪨 🪨 🗻 🗻 🗻 🐊 🐊 🐊 🐊 \n",
      "🪨 🪨 🌾 🌾 🌾 🌾 🌾 🌾 🌾 ⏩ ⏩ ⏩ ⏩ ⏩ ⏩ ⏩ ⏩ ⏩ ⏩ ⏩ ⏩ ⏩ ⏩ ⏩ ⏩ ⏩ 🎁 \n",
      "total path cost: 102\n",
      "[(0, 0), (1, 0), (2, 0), (3, 0), (4, 0), (5, 0), (6, 0), (7, 0), (8, 0), (9, 0), (10, 0), (11, 0), (12, 0), (13, 0), (14, 0), (14, 1), (15, 1), (16, 1), (17, 1), (18, 1), (19, 1), (20, 1), (21, 1), (21, 2), (21, 3), (22, 3), (23, 3), (24, 3), (24, 4), (25, 4), (25, 5), (25, 6), (25, 7), (25, 8), (25, 9), (26, 9), (26, 10), (26, 11), (26, 12), (26, 13), (26, 14), (26, 15), (26, 16), (26, 17), (26, 18), (26, 19), (26, 20), (26, 21), (26, 22), (26, 23), (26, 24), (26, 25), (26, 26)]\n"
     ]
    }
   ],
   "source": [
    "full_start = (0, 0)\n",
    "full_goal = (len(full_world[0]) - 1, len(full_world) - 1)\n",
    "full_path = a_star_search(full_world, full_start, full_goal, COSTS, MOVES, heuristic)\n",
    "full_path_cost = pretty_print_path(full_world, full_path, full_start, full_goal, COSTS)\n",
    "print(f\"total path cost: {full_path_cost}\")\n",
    "print(full_path)"
   ]
  }
 ],
 "metadata": {
  "kernelspec": {
   "display_name": "Python (en605645)",
   "language": "python",
   "name": "en605645"
  },
  "language_info": {
   "codemirror_mode": {
    "name": "ipython",
    "version": 3
   },
   "file_extension": ".py",
   "mimetype": "text/x-python",
   "name": "python",
   "nbconvert_exporter": "python",
   "pygments_lexer": "ipython3",
   "version": "3.10.11"
  },
  "toc": {
   "colors": {
    "hover_highlight": "#DAA520",
    "navigate_num": "#000000",
    "navigate_text": "#333333",
    "running_highlight": "#FF0000",
    "selected_highlight": "#FFD700",
    "sidebar_border": "#EEEEEE",
    "wrapper_background": "#FFFFFF"
   },
   "moveMenuLeft": true,
   "nav_menu": {
    "height": "192px",
    "width": "252px"
   },
   "navigate_menu": true,
   "number_sections": true,
   "sideBar": true,
   "threshold": 4,
   "toc_cell": false,
   "toc_section_display": "block",
   "toc_window_display": false,
   "widenNotebook": false
  }
 },
 "nbformat": 4,
 "nbformat_minor": 4
}
